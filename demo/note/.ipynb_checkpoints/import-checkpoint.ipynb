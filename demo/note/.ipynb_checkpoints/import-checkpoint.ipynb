{
 "cells": [
  {
   "cell_type": "code",
   "execution_count": 1,
   "id": "b8666cd0",
   "metadata": {},
   "outputs": [],
   "source": [
    "# dependencies\n",
    "from os import listdir\n",
    "import yaml"
   ]
  },
  {
   "cell_type": "code",
   "execution_count": 2,
   "id": "2550b9a2",
   "metadata": {},
   "outputs": [],
   "source": [
    "# support methods\n",
    "def read_textlike(fname, concat_fname=False):\n",
    "    if not concat_fname:\n",
    "        with open(fname, 'r') as f:\n",
    "            lines = [line for line in f.readlines() if 'todo' in line.lower()]\n",
    "    else:\n",
    "        with open(fname, 'r') as f:\n",
    "            lines = [line+f\" {fname}\" for line in f.readlines() if 'todo' in line.lower()]\n",
    "    return lines\n",
    "\n",
    "\n",
    "def exists_or_mkdir(path):\n",
    "    if not Path(path).exists():\n",
    "        print(f\"{path} does not exist. Adding now...\")\n",
    "        subprocess.call(['mkdir', path])\n",
    "        subprocess.call(['touch', f'{path}/todo.done'])\n",
    "        print(\"added path.\")\n",
    "    return 1\n",
    "\n",
    "\n",
    "def read_yaml(fname):\n",
    "    with open(fname, 'r') as f_handle:\n",
    "        out = yaml.safe_load(f_handle)\n",
    "    return out"
   ]
  },
  {
   "cell_type": "code",
   "execution_count": 4,
   "id": "135160e6",
   "metadata": {},
   "outputs": [],
   "source": [
    "# main\n",
    "arg_hand = \"../hand/code-review.md\"\n",
    "arg_output = \"../output/\"\n",
    "tags = [tag for tag in listdir(arg_output) if ('.ipynb' not in tag) & ('.log' not in tag)]"
   ]
  },
  {
   "cell_type": "markdown",
   "id": "29d2e0fb",
   "metadata": {},
   "source": [
    "### Sample import\n",
    "To process and track tasks from a new file, run the import script and provide arguments:\n",
    "1) `input`: the file to process\n",
    "2) `output`: the directory to place the compiled tasks\n",
    "    - see the [basic outline](https://github.com/baileyb0t/TODO-helper#basic-outline) section of the project README for details on what formatting is used in compiling tasks, OR see below for a sample run"
   ]
  },
  {
   "cell_type": "code",
   "execution_count": 10,
   "id": "ff4e11b4",
   "metadata": {},
   "outputs": [
    {
     "name": "stdout",
     "output_type": "stream",
     "text": [
      "2022-11-25 18:15:30 - INFO - preview\r\n",
      "2022-11-25 18:15:30 - INFO - line:\t- TODO: add the code review prompts to a training doc\r\n",
      "2022-11-25 18:15:30 - INFO - form:\tadd the code review prompts to a training doc\r\n",
      "2022-11-25 18:15:30 - INFO - tag:\tuntagged\r\n",
      "2022-11-25 18:15:30 - INFO - task:\tadd the code review prompts to a training doc\r\n",
      "\r\n",
      "2022-11-25 18:15:30 - INFO - preview\r\n",
      "2022-11-25 18:15:30 - INFO - line:\t- TODO: (longterm) practice R\r\n",
      "2022-11-25 18:15:30 - INFO - form:\t(longterm) practice r\r\n",
      "2022-11-25 18:15:30 - INFO - tag:\tlongterm\r\n",
      "2022-11-25 18:15:30 - INFO - task:\tpractice r\r\n",
      "\r\n",
      "2022-11-25 18:15:30 - INFO - checking 1 found tasks against those in ../output/untagged/todo.yml.\r\n",
      "2022-11-25 18:15:30 - INFO - 1 duplicate tasks dropped. 0 waiting to be added.\r\n",
      "2022-11-25 18:15:30 - INFO - no new tasks found.\r\n",
      "2022-11-25 18:15:30 - INFO - checking 1 found tasks against those in ../output/longterm/todo.yml.\r\n",
      "2022-11-25 18:15:30 - INFO - 1 duplicate tasks dropped. 0 waiting to be added.\r\n",
      "2022-11-25 18:15:30 - INFO - no new tasks found.\r\n",
      "2022-11-25 18:15:30 - INFO - checking 16 found tasks against those in ../output/project_2/todo.yml.\r\n",
      "2022-11-25 18:15:30 - INFO - 16 duplicate tasks dropped. 0 waiting to be added.\r\n",
      "2022-11-25 18:15:30 - INFO - no new tasks found.\r\n",
      "2022-11-25 18:15:30 - INFO - checking 1 found tasks against those in ../output/reading/todo.yml.\r\n",
      "2022-11-25 18:15:30 - INFO - 1 duplicate tasks dropped. 0 waiting to be added.\r\n",
      "2022-11-25 18:15:30 - INFO - no new tasks found.\r\n",
      "2022-11-25 18:15:30 - INFO - done.\r\n"
     ]
    }
   ],
   "source": [
    "!python3 ../../import/src/import.py --input=../hand/code-review.md --output=../output/"
   ]
  },
  {
   "cell_type": "markdown",
   "id": "20fe81ee",
   "metadata": {},
   "source": [
    "### Sample imported content"
   ]
  },
  {
   "cell_type": "code",
   "execution_count": 5,
   "id": "e34095fa",
   "metadata": {},
   "outputs": [],
   "source": [
    "sample_tag = tags[0]\n",
    "sample_f = f\"{arg_output}{sample_tag}/todo.yml\"\n",
    "sample_tasks = read_yaml(sample_f)"
   ]
  },
  {
   "cell_type": "code",
   "execution_count": 11,
   "id": "8c48f68b",
   "metadata": {},
   "outputs": [
    {
     "data": {
      "text/plain": [
       "'reading'"
      ]
     },
     "execution_count": 11,
     "metadata": {},
     "output_type": "execute_result"
    }
   ],
   "source": [
    "sample_tag"
   ]
  },
  {
   "cell_type": "code",
   "execution_count": 12,
   "id": "578de9db",
   "metadata": {},
   "outputs": [
    {
     "data": {
      "text/plain": [
       "'../output/reading/todo.yml'"
      ]
     },
     "execution_count": 12,
     "metadata": {},
     "output_type": "execute_result"
    }
   ],
   "source": [
    "sample_f"
   ]
  },
  {
   "cell_type": "code",
   "execution_count": 13,
   "id": "92471b2e",
   "metadata": {},
   "outputs": [
    {
     "data": {
      "text/plain": [
       "['review ts email about time results for other ohe methods']"
      ]
     },
     "execution_count": 13,
     "metadata": {},
     "output_type": "execute_result"
    }
   ],
   "source": [
    "sample_tasks"
   ]
  },
  {
   "cell_type": "code",
   "execution_count": null,
   "id": "711fa2bc",
   "metadata": {},
   "outputs": [],
   "source": []
  }
 ],
 "metadata": {
  "kernelspec": {
   "display_name": "Python 3 (ipykernel)",
   "language": "python",
   "name": "python3"
  },
  "language_info": {
   "codemirror_mode": {
    "name": "ipython",
    "version": 3
   },
   "file_extension": ".py",
   "mimetype": "text/x-python",
   "name": "python",
   "nbconvert_exporter": "python",
   "pygments_lexer": "ipython3",
   "version": "3.10.7"
  }
 },
 "nbformat": 4,
 "nbformat_minor": 5
}
