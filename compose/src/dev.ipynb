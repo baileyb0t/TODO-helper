{
 "cells": [
  {
   "cell_type": "code",
   "execution_count": 1,
   "id": "f56bc7cd",
   "metadata": {},
   "outputs": [],
   "source": [
    "# dependencies\n",
    "from datetime import date, datetime\n",
    "import yaml\n",
    "from doc import Doc"
   ]
  },
  {
   "cell_type": "code",
   "execution_count": 2,
   "id": "30395218",
   "metadata": {},
   "outputs": [],
   "source": [
    "# support methods"
   ]
  },
  {
   "cell_type": "code",
   "execution_count": 3,
   "id": "77f3b0ad",
   "metadata": {},
   "outputs": [],
   "source": [
    "Doc?"
   ]
  },
  {
   "cell_type": "code",
   "execution_count": 3,
   "id": "10eeb53e",
   "metadata": {},
   "outputs": [],
   "source": [
    "# main\n",
    "dailydir = \"../../../my-TODO/individual/daily\""
   ]
  },
  {
   "cell_type": "markdown",
   "id": "41167450",
   "metadata": {},
   "source": [
    "# goals\n",
    "1. given a date or by default, the current date, create a '{date}.md' file with the full written date (ie. Thursday 9 November 2023) as the first line\n",
    "2. define 3 sections for the file:\n",
    "    1. general\n",
    "        - quick notes + reminders\n",
    "    2. scheduled\n",
    "        - meetings\n",
    "        - tasks + deadlines\n",
    "    3. actual/notes\n",
    "        - each meeting\n",
    "        - each task (?)\n",
    "            - this might not be useful to programmatically do. if i end up trying to build functionality to mark things as complete and have a program traverse the lines for completion markings to update corresponding tasks, then having multiple places where the tasks are might be an issue. but for workflow i do want the tasks to have a place in the notes so that i can leave info for myself from what i tried, etc. so. TODO: noodle more on how to include tasks in actual section of template"
   ]
  },
  {
   "cell_type": "code",
   "execution_count": 6,
   "id": "3d61ea0d",
   "metadata": {},
   "outputs": [],
   "source": [
    "us_holidays = holidays.US()\n",
    "today = date.today()\n",
    "header = today.strftime(\"%A, %d %B %Y\")"
   ]
  },
  {
   "cell_type": "code",
   "execution_count": 16,
   "id": "8133ab43",
   "metadata": {},
   "outputs": [
    {
     "data": {
      "text/plain": [
       "'2023-11-13.md'"
      ]
     },
     "execution_count": 16,
     "metadata": {},
     "output_type": "execute_result"
    }
   ],
   "source": [
    "date.today().strftime(\"%Y-%m-%d.md\")"
   ]
  },
  {
   "cell_type": "code",
   "execution_count": 20,
   "id": "cc1008a3",
   "metadata": {},
   "outputs": [],
   "source": [
    "test = '2023-11-13'"
   ]
  },
  {
   "cell_type": "code",
   "execution_count": 31,
   "id": "0b0efa32",
   "metadata": {
    "run_control": {
     "marked": true
    }
   },
   "outputs": [],
   "source": [
    "def format_date(arg):\n",
    "    if '-' in arg: form = datetime.strptime(arg, '%Y-%m-%d')\n",
    "    else: form = datetime.strptime(arg, '%Y%m%d')\n",
    "    return form.strftime(\"%Y-%m-%d.md\")"
   ]
  },
  {
   "cell_type": "code",
   "execution_count": 8,
   "id": "e59bcf0f",
   "metadata": {},
   "outputs": [
    {
     "ename": "TypeError",
     "evalue": "'NoneType' object is not iterable",
     "output_type": "error",
     "traceback": [
      "\u001b[0;31m---------------------------------------------------------------------------\u001b[0m",
      "\u001b[0;31mTypeError\u001b[0m                                 Traceback (most recent call last)",
      "Cell \u001b[0;32mIn[8], line 1\u001b[0m\n\u001b[0;32m----> 1\u001b[0m \u001b[38;5;28;43many\u001b[39;49m\u001b[43m(\u001b[49m\u001b[43mus_holidays\u001b[49m\u001b[38;5;241;43m.\u001b[39;49m\u001b[43mget\u001b[49m\u001b[43m(\u001b[49m\u001b[43mtoday\u001b[49m\u001b[43m)\u001b[49m\u001b[43m)\u001b[49m\n",
      "\u001b[0;31mTypeError\u001b[0m: 'NoneType' object is not iterable"
     ]
    }
   ],
   "source": [
    "us_holidays.get(today)"
   ]
  },
  {
   "cell_type": "code",
   "execution_count": 10,
   "id": "ceea4289",
   "metadata": {},
   "outputs": [
    {
     "data": {
      "text/plain": [
       "\"New Year's Day\""
      ]
     },
     "execution_count": 10,
     "metadata": {},
     "output_type": "execute_result"
    }
   ],
   "source": [
    "us_holidays.get('2023-01-01')"
   ]
  },
  {
   "cell_type": "code",
   "execution_count": null,
   "id": "42463348",
   "metadata": {},
   "outputs": [],
   "source": []
  }
 ],
 "metadata": {
  "kernelspec": {
   "display_name": "Python 3 (ipykernel)",
   "language": "python",
   "name": "python3"
  },
  "language_info": {
   "codemirror_mode": {
    "name": "ipython",
    "version": 3
   },
   "file_extension": ".py",
   "mimetype": "text/x-python",
   "name": "python",
   "nbconvert_exporter": "python",
   "pygments_lexer": "ipython3",
   "version": "3.11.5"
  },
  "toc": {
   "base_numbering": 1,
   "nav_menu": {},
   "number_sections": true,
   "sideBar": true,
   "skip_h1_title": false,
   "title_cell": "Table of Contents",
   "title_sidebar": "Contents",
   "toc_cell": false,
   "toc_position": {},
   "toc_section_display": true,
   "toc_window_display": false
  },
  "varInspector": {
   "cols": {
    "lenName": 16,
    "lenType": 16,
    "lenVar": 40
   },
   "kernels_config": {
    "python": {
     "delete_cmd_postfix": "",
     "delete_cmd_prefix": "del ",
     "library": "var_list.py",
     "varRefreshCmd": "print(var_dic_list())"
    },
    "r": {
     "delete_cmd_postfix": ") ",
     "delete_cmd_prefix": "rm(",
     "library": "var_list.r",
     "varRefreshCmd": "cat(var_dic_list()) "
    }
   },
   "types_to_exclude": [
    "module",
    "function",
    "builtin_function_or_method",
    "instance",
    "_Feature"
   ],
   "window_display": false
  }
 },
 "nbformat": 4,
 "nbformat_minor": 5
}
