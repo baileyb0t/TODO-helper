{
 "cells": [
  {
   "cell_type": "markdown",
   "id": "ef73cb19",
   "metadata": {},
   "source": [
    "The goal of this notebook is to develop a procedure to review the tasks compiled by the TODO-tracker and capture:\n",
    "- when the task is completed\n",
    "- who completed the task\n",
    "- what label(s) the task had [NOTE: this may require identifying whether the same task appears in any other todo.yml file]\n",
    "- any notes or supporting materials related to the task completion"
   ]
  },
  {
   "cell_type": "code",
   "execution_count": 1,
   "id": "f6b0b5ee",
   "metadata": {},
   "outputs": [],
   "source": [
    "# dependencies\n",
    "from os import listdir\n",
    "from pathlib import Path\n",
    "import yaml\n",
    "import hashlib\n",
    "import pandas as pd"
   ]
  },
  {
   "cell_type": "code",
   "execution_count": 2,
   "id": "4e3273a8",
   "metadata": {},
   "outputs": [],
   "source": [
    "# support methods\n",
    "def read_yaml(fname):\n",
    "    with open(fname, 'r') as f_handle:\n",
    "        out = yaml.safe_load(f_handle)\n",
    "    return out\n",
    "\n",
    "\n",
    "def get_hash(task_str):\n",
    "    enc_task = str(task_str).encode()\n",
    "    hash_obj = hashlib.sha1(enc_task)\n",
    "    return str(hash_obj.hexdigest())\n",
    "\n",
    "\n",
    "def collect_task_fs(task_dir):\n",
    "    return [\n",
    "        (tag, f\"{task_dir}{tag}/{f}\") for tag in listdir(task_dir) if '.log' not in tag\n",
    "        for f in listdir(task_dir+tag) if '.yml' in f\n",
    "    ]\n",
    "\n",
    "\n",
    "def fillin_tasks(task_dir):\n",
    "    assert Path(task_dir).exists()\n",
    "    task_lib = collect_task_fs(task_dir)\n",
    "    task_dfs = []\n",
    "    for (tag, f) in task_lib:\n",
    "        tag_tasks = read_yaml(f)\n",
    "        df = pd.DataFrame(tag_tasks, columns=['task'])\n",
    "        df[tag] = 1\n",
    "        task_dfs.append(df)\n",
    "    out = pd.concat(task_dfs).fillna(0)\n",
    "    out['task_id'] = out.task.apply(get_hash)\n",
    "    return out.reset_index().drop(columns='index')\n",
    "\n",
    "\n",
    "def find_mult_tags(task_df):\n",
    "    tag_cols = [col for col in task_df.columns if 'task' not in col]\n",
    "    if (any(task_df[tag_cols].sum(axis=1) > 1)) | (any(task_df.duplicated(subset='task_id'))):\n",
    "        print(\"tasks with multiple labels found\")\n",
    "    else:\n",
    "        print(\"no tasks found with multiple labels assigned\")\n",
    "    task_is = task_df.loc[task_df[tag_cols].sum(axis=1) > 1].index.values\n",
    "    task_ids = task_df.loc[task_df.index.isin(task_is), 'task_id'].values\n",
    "    return task_ids"
   ]
  },
  {
   "cell_type": "code",
   "execution_count": 3,
   "id": "4eeac54e",
   "metadata": {},
   "outputs": [
    {
     "ename": "NotADirectoryError",
     "evalue": "[Errno 20] Not a directory: '../output/active.parquet'",
     "output_type": "error",
     "traceback": [
      "\u001b[0;31m---------------------------------------------------------------------------\u001b[0m",
      "\u001b[0;31mNotADirectoryError\u001b[0m                        Traceback (most recent call last)",
      "Cell \u001b[0;32mIn [3], line 4\u001b[0m\n\u001b[1;32m      1\u001b[0m \u001b[38;5;66;03m# main\u001b[39;00m\n\u001b[1;32m      2\u001b[0m task_dir \u001b[38;5;241m=\u001b[39m \u001b[38;5;124m\"\u001b[39m\u001b[38;5;124m../output/\u001b[39m\u001b[38;5;124m\"\u001b[39m\n\u001b[0;32m----> 4\u001b[0m task_df \u001b[38;5;241m=\u001b[39m \u001b[43mfillin_tasks\u001b[49m\u001b[43m(\u001b[49m\u001b[43mtask_dir\u001b[49m\u001b[43m)\u001b[49m\n\u001b[1;32m      5\u001b[0m mult_tags \u001b[38;5;241m=\u001b[39m find_mult_tags(task_df)\n\u001b[1;32m      7\u001b[0m task_df\u001b[38;5;241m.\u001b[39mto_parquet(\u001b[38;5;124m\"\u001b[39m\u001b[38;5;124m../output/active.parquet\u001b[39m\u001b[38;5;124m\"\u001b[39m)\n",
      "Cell \u001b[0;32mIn [2], line 23\u001b[0m, in \u001b[0;36mfillin_tasks\u001b[0;34m(task_dir)\u001b[0m\n\u001b[1;32m     21\u001b[0m \u001b[38;5;28;01mdef\u001b[39;00m \u001b[38;5;21mfillin_tasks\u001b[39m(task_dir):\n\u001b[1;32m     22\u001b[0m     \u001b[38;5;28;01massert\u001b[39;00m Path(task_dir)\u001b[38;5;241m.\u001b[39mexists()\n\u001b[0;32m---> 23\u001b[0m     task_lib \u001b[38;5;241m=\u001b[39m \u001b[43mcollect_task_fs\u001b[49m\u001b[43m(\u001b[49m\u001b[43mtask_dir\u001b[49m\u001b[43m)\u001b[49m\n\u001b[1;32m     24\u001b[0m     task_dfs \u001b[38;5;241m=\u001b[39m []\n\u001b[1;32m     25\u001b[0m     \u001b[38;5;28;01mfor\u001b[39;00m (tag, f) \u001b[38;5;129;01min\u001b[39;00m task_lib:\n",
      "Cell \u001b[0;32mIn [2], line 15\u001b[0m, in \u001b[0;36mcollect_task_fs\u001b[0;34m(task_dir)\u001b[0m\n\u001b[1;32m     14\u001b[0m \u001b[38;5;28;01mdef\u001b[39;00m \u001b[38;5;21mcollect_task_fs\u001b[39m(task_dir):\n\u001b[0;32m---> 15\u001b[0m     \u001b[38;5;28;01mreturn\u001b[39;00m [\n\u001b[1;32m     16\u001b[0m         (tag, \u001b[38;5;124mf\u001b[39m\u001b[38;5;124m\"\u001b[39m\u001b[38;5;132;01m{\u001b[39;00mtask_dir\u001b[38;5;132;01m}\u001b[39;00m\u001b[38;5;132;01m{\u001b[39;00mtag\u001b[38;5;132;01m}\u001b[39;00m\u001b[38;5;124m/\u001b[39m\u001b[38;5;132;01m{\u001b[39;00mf\u001b[38;5;132;01m}\u001b[39;00m\u001b[38;5;124m\"\u001b[39m) \u001b[38;5;28;01mfor\u001b[39;00m tag \u001b[38;5;129;01min\u001b[39;00m listdir(task_dir) \u001b[38;5;28;01mif\u001b[39;00m \u001b[38;5;124m'\u001b[39m\u001b[38;5;124m.log\u001b[39m\u001b[38;5;124m'\u001b[39m \u001b[38;5;129;01mnot\u001b[39;00m \u001b[38;5;129;01min\u001b[39;00m tag\n\u001b[1;32m     17\u001b[0m         \u001b[38;5;28;01mfor\u001b[39;00m f \u001b[38;5;129;01min\u001b[39;00m listdir(task_dir\u001b[38;5;241m+\u001b[39mtag) \u001b[38;5;28;01mif\u001b[39;00m \u001b[38;5;124m'\u001b[39m\u001b[38;5;124m.yml\u001b[39m\u001b[38;5;124m'\u001b[39m \u001b[38;5;129;01min\u001b[39;00m f\n\u001b[1;32m     18\u001b[0m     ]\n",
      "Cell \u001b[0;32mIn [2], line 17\u001b[0m, in \u001b[0;36m<listcomp>\u001b[0;34m(.0)\u001b[0m\n\u001b[1;32m     14\u001b[0m \u001b[38;5;28;01mdef\u001b[39;00m \u001b[38;5;21mcollect_task_fs\u001b[39m(task_dir):\n\u001b[1;32m     15\u001b[0m     \u001b[38;5;28;01mreturn\u001b[39;00m [\n\u001b[1;32m     16\u001b[0m         (tag, \u001b[38;5;124mf\u001b[39m\u001b[38;5;124m\"\u001b[39m\u001b[38;5;132;01m{\u001b[39;00mtask_dir\u001b[38;5;132;01m}\u001b[39;00m\u001b[38;5;132;01m{\u001b[39;00mtag\u001b[38;5;132;01m}\u001b[39;00m\u001b[38;5;124m/\u001b[39m\u001b[38;5;132;01m{\u001b[39;00mf\u001b[38;5;132;01m}\u001b[39;00m\u001b[38;5;124m\"\u001b[39m) \u001b[38;5;28;01mfor\u001b[39;00m tag \u001b[38;5;129;01min\u001b[39;00m listdir(task_dir) \u001b[38;5;28;01mif\u001b[39;00m \u001b[38;5;124m'\u001b[39m\u001b[38;5;124m.log\u001b[39m\u001b[38;5;124m'\u001b[39m \u001b[38;5;129;01mnot\u001b[39;00m \u001b[38;5;129;01min\u001b[39;00m tag\n\u001b[0;32m---> 17\u001b[0m         \u001b[38;5;28;01mfor\u001b[39;00m f \u001b[38;5;129;01min\u001b[39;00m \u001b[43mlistdir\u001b[49m\u001b[43m(\u001b[49m\u001b[43mtask_dir\u001b[49m\u001b[38;5;241;43m+\u001b[39;49m\u001b[43mtag\u001b[49m\u001b[43m)\u001b[49m \u001b[38;5;28;01mif\u001b[39;00m \u001b[38;5;124m'\u001b[39m\u001b[38;5;124m.yml\u001b[39m\u001b[38;5;124m'\u001b[39m \u001b[38;5;129;01min\u001b[39;00m f\n\u001b[1;32m     18\u001b[0m     ]\n",
      "\u001b[0;31mNotADirectoryError\u001b[0m: [Errno 20] Not a directory: '../output/active.parquet'"
     ]
    }
   ],
   "source": [
    "# main\n",
    "task_dir = \"../output/\"\n",
    "\n",
    "task_df = fillin_tasks(task_dir)\n",
    "mult_tags = find_mult_tags(task_df)\n",
    "\n",
    "task_df.to_parquet(\"../output/active.parquet\")"
   ]
  },
  {
   "cell_type": "code",
   "execution_count": null,
   "id": "d84fae39",
   "metadata": {},
   "outputs": [],
   "source": [
    "task_df"
   ]
  },
  {
   "cell_type": "markdown",
   "id": "b822b8c3",
   "metadata": {},
   "source": [
    "### how many tasks per tag?"
   ]
  },
  {
   "cell_type": "code",
   "execution_count": null,
   "id": "9d3d353e",
   "metadata": {},
   "outputs": [],
   "source": [
    "task_df.sum()"
   ]
  },
  {
   "cell_type": "markdown",
   "id": "6aaf4dc8",
   "metadata": {},
   "source": [
    "### how many tags per task?"
   ]
  },
  {
   "cell_type": "code",
   "execution_count": null,
   "id": "3db6f282",
   "metadata": {},
   "outputs": [],
   "source": [
    "task_df[tag_cols].sum(axis=1).describe()"
   ]
  },
  {
   "cell_type": "code",
   "execution_count": null,
   "id": "b5345c8e",
   "metadata": {},
   "outputs": [],
   "source": []
  }
 ],
 "metadata": {
  "kernelspec": {
   "display_name": "Python 3 (ipykernel)",
   "language": "python",
   "name": "python3"
  },
  "language_info": {
   "codemirror_mode": {
    "name": "ipython",
    "version": 3
   },
   "file_extension": ".py",
   "mimetype": "text/x-python",
   "name": "python",
   "nbconvert_exporter": "python",
   "pygments_lexer": "ipython3",
   "version": "3.10.7"
  }
 },
 "nbformat": 4,
 "nbformat_minor": 5
}
