{
 "cells": [
  {
   "cell_type": "markdown",
   "id": "41167450",
   "metadata": {},
   "source": [
    "# goals\n",
    "1. given a date or by default, the current date, create a '{date}.md' file with the full written date (ie. Thursday 9 November 2023) as the first line\n",
    "2. define 3 sections for the file:\n",
    "    1. general\n",
    "        - quick notes + reminders\n",
    "    2. scheduled\n",
    "        - meetings\n",
    "        - tasks + deadlines\n",
    "    3. actual/notes\n",
    "        - each meeting\n",
    "        - each task (?)\n",
    "            - this might not be useful to programmatically do. if i end up trying to build functionality to mark things as complete and have a program traverse the lines for completion markings to update corresponding tasks, then having multiple places where the tasks are might be an issue. but for workflow i do want the tasks to have a place in the notes so that i can leave info for myself from what i tried, etc. so. TODO: noodle more on how to include tasks in actual section of template"
   ]
  },
  {
   "cell_type": "markdown",
   "id": "d3bce719",
   "metadata": {},
   "source": [
    "# adding scheduled tasks"
   ]
  },
  {
   "cell_type": "code",
   "execution_count": 12,
   "id": "d8a155dc",
   "metadata": {
    "run_control": {
     "marked": true
    }
   },
   "outputs": [],
   "source": [
    "# dependencies\n",
    "from pathlib import Path, PosixPath\n",
    "from os.path import isdir, isfile\n",
    "import pandas as pd"
   ]
  },
  {
   "cell_type": "code",
   "execution_count": 13,
   "id": "2ba162c7",
   "metadata": {
    "run_control": {
     "marked": true
    }
   },
   "outputs": [],
   "source": [
    "# support methods\n",
    "def find_taskfiles(arg):\n",
    "    if isfile(arg): return PosixPath(arg)\n",
    "    if isdir(arg): return [path for path in Path(arg).rglob('*.parquet')]\n",
    "    return None\n",
    "\n",
    "\n",
    "def prep_tasks(arg):\n",
    "    fs = find_taskfiles(arg)\n",
    "    assert fs != []\n",
    "    assert Path(fs[0]).exists()\n",
    "    out = pd.concat([pd.read_parquet(f) for f in fs])\n",
    "    return out"
   ]
  },
  {
   "cell_type": "code",
   "execution_count": 14,
   "id": "24c2786f",
   "metadata": {
    "run_control": {
     "marked": true
    }
   },
   "outputs": [],
   "source": [
    "# main\n",
    "taskdir = \"/Users/home/git/my-TODO/tasks/\"\n",
    "tasks = prep_tasks(taskdir)"
   ]
  },
  {
   "cell_type": "code",
   "execution_count": 15,
   "id": "19a72843",
   "metadata": {},
   "outputs": [
    {
     "data": {
      "text/html": [
       "<div>\n",
       "<style scoped>\n",
       "    .dataframe tbody tr th:only-of-type {\n",
       "        vertical-align: middle;\n",
       "    }\n",
       "\n",
       "    .dataframe tbody tr th {\n",
       "        vertical-align: top;\n",
       "    }\n",
       "\n",
       "    .dataframe thead th {\n",
       "        text-align: right;\n",
       "    }\n",
       "</style>\n",
       "<table border=\"1\" class=\"dataframe\">\n",
       "  <thead>\n",
       "    <tr style=\"text-align: right;\">\n",
       "      <th></th>\n",
       "      <th>32</th>\n",
       "    </tr>\n",
       "  </thead>\n",
       "  <tbody>\n",
       "    <tr>\n",
       "      <th>source</th>\n",
       "      <td>/Users/home/git/my-TODO/individual/daily/20221...</td>\n",
       "    </tr>\n",
       "    <tr>\n",
       "      <th>filename</th>\n",
       "      <td>20221126.md</td>\n",
       "    </tr>\n",
       "    <tr>\n",
       "      <th>TODO_line</th>\n",
       "      <td>- TODO (tech) (reading) how can users on the s...</td>\n",
       "    </tr>\n",
       "    <tr>\n",
       "      <th>tag</th>\n",
       "      <td>tech</td>\n",
       "    </tr>\n",
       "    <tr>\n",
       "      <th>timeline</th>\n",
       "      <td>None</td>\n",
       "    </tr>\n",
       "    <tr>\n",
       "      <th>task</th>\n",
       "      <td>TODO   how can users on the server have local ...</td>\n",
       "    </tr>\n",
       "    <tr>\n",
       "      <th>started</th>\n",
       "      <td>False</td>\n",
       "    </tr>\n",
       "    <tr>\n",
       "      <th>last_update</th>\n",
       "      <td>False</td>\n",
       "    </tr>\n",
       "    <tr>\n",
       "      <th>completed</th>\n",
       "      <td>False</td>\n",
       "    </tr>\n",
       "    <tr>\n",
       "      <th>form_tag</th>\n",
       "      <td>tech</td>\n",
       "    </tr>\n",
       "  </tbody>\n",
       "</table>\n",
       "</div>"
      ],
      "text/plain": [
       "                                                            32\n",
       "source       /Users/home/git/my-TODO/individual/daily/20221...\n",
       "filename                                           20221126.md\n",
       "TODO_line    - TODO (tech) (reading) how can users on the s...\n",
       "tag                                                       tech\n",
       "timeline                                                  None\n",
       "task         TODO   how can users on the server have local ...\n",
       "started                                                  False\n",
       "last_update                                              False\n",
       "completed                                                False\n",
       "form_tag                                                  tech"
      ]
     },
     "execution_count": 15,
     "metadata": {},
     "output_type": "execute_result"
    }
   ],
   "source": [
    "tasks.sample(1).T"
   ]
  },
  {
   "cell_type": "code",
   "execution_count": null,
   "id": "3d869871",
   "metadata": {},
   "outputs": [],
   "source": []
  }
 ],
 "metadata": {
  "kernelspec": {
   "display_name": "Python 3 (ipykernel)",
   "language": "python",
   "name": "python3"
  },
  "language_info": {
   "codemirror_mode": {
    "name": "ipython",
    "version": 3
   },
   "file_extension": ".py",
   "mimetype": "text/x-python",
   "name": "python",
   "nbconvert_exporter": "python",
   "pygments_lexer": "ipython3",
   "version": "3.11.6"
  },
  "toc": {
   "base_numbering": 1,
   "nav_menu": {},
   "number_sections": true,
   "sideBar": true,
   "skip_h1_title": false,
   "title_cell": "Table of Contents",
   "title_sidebar": "Contents",
   "toc_cell": false,
   "toc_position": {},
   "toc_section_display": true,
   "toc_window_display": false
  },
  "varInspector": {
   "cols": {
    "lenName": 16,
    "lenType": 16,
    "lenVar": 40
   },
   "kernels_config": {
    "python": {
     "delete_cmd_postfix": "",
     "delete_cmd_prefix": "del ",
     "library": "var_list.py",
     "varRefreshCmd": "print(var_dic_list())"
    },
    "r": {
     "delete_cmd_postfix": ") ",
     "delete_cmd_prefix": "rm(",
     "library": "var_list.r",
     "varRefreshCmd": "cat(var_dic_list()) "
    }
   },
   "types_to_exclude": [
    "module",
    "function",
    "builtin_function_or_method",
    "instance",
    "_Feature"
   ],
   "window_display": false
  }
 },
 "nbformat": 4,
 "nbformat_minor": 5
}
