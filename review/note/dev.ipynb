{
 "cells": [
  {
   "cell_type": "code",
   "execution_count": 2,
   "id": "d43f24d1",
   "metadata": {},
   "outputs": [],
   "source": [
    "# dependencies\n",
    "import argparse\n",
    "import logging\n",
    "import pandas as pd"
   ]
  },
  {
   "cell_type": "code",
   "execution_count": 3,
   "id": "fc94c207",
   "metadata": {},
   "outputs": [],
   "source": [
    "# support methods\n",
    "def get_args():\n",
    "    \"\"\"\n",
    "    this is a relatively generic method for arg handling\n",
    "    \"\"\"\n",
    "    parser = argparse.ArgumentParser()\n",
    "    parser.add_argument(\"--input\", default=None)\n",
    "    parser.add_argument(\"--taskdir\", default=None)\n",
    "    args = parser.parse_args()\n",
    "    assert Path(args.input).exists()\n",
    "    assert Path(args.taskdir).exists()\n",
    "    return args\n",
    "\n",
    "\n",
    "def get_logger(sname, file_name=None):\n",
    "    \"\"\"\n",
    "    generic method for logging so progress can be tracked\n",
    "    \"\"\"\n",
    "    logger = logging.getLogger(sname)\n",
    "    logger.setLevel(logging.DEBUG)\n",
    "    formatter = logging.Formatter(\"%(asctime)s - %(levelname)s \" +\n",
    "                                  \"- %(message)s\", datefmt='%Y-%m-%d %H:%M:%S')\n",
    "    stream_handler = logging.StreamHandler(stdout)\n",
    "    stream_handler.setFormatter(formatter)\n",
    "    logger.addHandler(stream_handler)\n",
    "    if file_name:\n",
    "        file_handler = logging.FileHandler(file_name)\n",
    "        file_handler.setFormatter(formatter)\n",
    "        logger.addHandler(file_handler)\n",
    "    return logger"
   ]
  },
  {
   "cell_type": "code",
   "execution_count": null,
   "id": "e8e7222a",
   "metadata": {},
   "outputs": [],
   "source": [
    "# main\n"
   ]
  }
 ],
 "metadata": {
  "kernelspec": {
   "display_name": "Python 3 (ipykernel)",
   "language": "python",
   "name": "python3"
  },
  "language_info": {
   "codemirror_mode": {
    "name": "ipython",
    "version": 3
   },
   "file_extension": ".py",
   "mimetype": "text/x-python",
   "name": "python",
   "nbconvert_exporter": "python",
   "pygments_lexer": "ipython3",
   "version": "3.11.5"
  },
  "toc": {
   "base_numbering": 1,
   "nav_menu": {},
   "number_sections": true,
   "sideBar": true,
   "skip_h1_title": false,
   "title_cell": "Table of Contents",
   "title_sidebar": "Contents",
   "toc_cell": false,
   "toc_position": {},
   "toc_section_display": true,
   "toc_window_display": false
  },
  "varInspector": {
   "cols": {
    "lenName": 16,
    "lenType": 16,
    "lenVar": 40
   },
   "kernels_config": {
    "python": {
     "delete_cmd_postfix": "",
     "delete_cmd_prefix": "del ",
     "library": "var_list.py",
     "varRefreshCmd": "print(var_dic_list())"
    },
    "r": {
     "delete_cmd_postfix": ") ",
     "delete_cmd_prefix": "rm(",
     "library": "var_list.r",
     "varRefreshCmd": "cat(var_dic_list()) "
    }
   },
   "types_to_exclude": [
    "module",
    "function",
    "builtin_function_or_method",
    "instance",
    "_Feature"
   ],
   "window_display": false
  }
 },
 "nbformat": 4,
 "nbformat_minor": 5
}
