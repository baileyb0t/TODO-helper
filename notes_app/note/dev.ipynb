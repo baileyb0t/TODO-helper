{
 "cells": [
  {
   "cell_type": "code",
   "execution_count": 1,
   "id": "41d2545e-0c9d-48c2-88c9-2748f0d56e3b",
   "metadata": {},
   "outputs": [],
   "source": [
    "# dependencies\n",
    "import sqlite3"
   ]
  },
  {
   "cell_type": "code",
   "execution_count": 2,
   "id": "0608cc40-aed7-4433-83fe-36eeeb628c6f",
   "metadata": {},
   "outputs": [],
   "source": [
    "# support methods"
   ]
  },
  {
   "cell_type": "code",
   "execution_count": 5,
   "id": "73257a87-1254-4ae7-8b2d-5af386cfc747",
   "metadata": {},
   "outputs": [],
   "source": [
    "# main\n",
    "notes_data = \"/Users/home/Downloads/NoteStore.sqlite copy\""
   ]
  },
  {
   "cell_type": "code",
   "execution_count": 6,
   "id": "10a75266-e308-4e64-9028-17a1ca070468",
   "metadata": {},
   "outputs": [],
   "source": [
    "con = sqlite3.connect(notes_data)\n",
    "cur = con.cursor()"
   ]
  },
  {
   "cell_type": "code",
   "execution_count": 12,
   "id": "0b989448-f798-445c-9d7e-e08ae4b492fa",
   "metadata": {},
   "outputs": [
    {
     "name": "stdout",
     "output_type": "stream",
     "text": [
      "None\n"
     ]
    }
   ],
   "source": [
    "print(cur.description)"
   ]
  },
  {
   "cell_type": "code",
   "execution_count": 24,
   "id": "dc1db6e1-2de4-41fe-ae3c-e1db2d7aa2d2",
   "metadata": {},
   "outputs": [],
   "source": [
    "sql_query = \"\"\"SELECT name FROM sqlite_master\n",
    "  WHERE type='table';\"\"\""
   ]
  },
  {
   "cell_type": "code",
   "execution_count": 44,
   "id": "1ccd2cc1-406d-4e65-8b84-cbb1ad1d4cfb",
   "metadata": {},
   "outputs": [
    {
     "data": {
      "text/plain": [
       "<sqlite3.Cursor at 0x1111ca8c0>"
      ]
     },
     "execution_count": 44,
     "metadata": {},
     "output_type": "execute_result"
    }
   ],
   "source": [
    "cur.execute(sql_query)"
   ]
  },
  {
   "cell_type": "code",
   "execution_count": 45,
   "id": "df57a6d6-9f46-415d-9e76-7ba28634f93f",
   "metadata": {},
   "outputs": [],
   "source": [
    "tables = cur.fetchall()"
   ]
  },
  {
   "cell_type": "code",
   "execution_count": 46,
   "id": "e745f46d-3d95-487f-bf90-fa87727c1d7c",
   "metadata": {},
   "outputs": [
    {
     "data": {
      "text/plain": [
       "[('ZICCLOUDSTATE',),\n",
       " ('ZICLOCATION',),\n",
       " ('ZICNOTEDATA',),\n",
       " ('ZICSERVERCHANGETOKEN',),\n",
       " ('Z_METADATA',),\n",
       " ('Z_MODELCACHE',),\n",
       " ('ACHANGE',),\n",
       " ('ATRANSACTION',),\n",
       " ('ATRANSACTIONSTRING',),\n",
       " ('ZICCLOUDSYNCINGOBJECT',),\n",
       " ('ZICNOTEPARTICIPANT',),\n",
       " ('ZICINVITATION',),\n",
       " ('Z_PRIMARYKEY',)]"
      ]
     },
     "execution_count": 46,
     "metadata": {},
     "output_type": "execute_result"
    }
   ],
   "source": [
    "tables"
   ]
  },
  {
   "cell_type": "code",
   "execution_count": 55,
   "id": "a8755c1d-9132-484f-8c09-ce585614eaf1",
   "metadata": {},
   "outputs": [],
   "source": [
    "table = tables[0][0]"
   ]
  },
  {
   "cell_type": "code",
   "execution_count": 56,
   "id": "4c0c1fbc-7528-4c3d-ba31-26f566874d03",
   "metadata": {},
   "outputs": [
    {
     "data": {
      "text/plain": [
       "'ZICCLOUDSTATE'"
      ]
     },
     "execution_count": 56,
     "metadata": {},
     "output_type": "execute_result"
    }
   ],
   "source": [
    "table"
   ]
  },
  {
   "cell_type": "code",
   "execution_count": 57,
   "id": "edecc2fa-cf9a-4b19-9f31-86eb40ebea28",
   "metadata": {},
   "outputs": [],
   "source": [
    "query = f\"\"\"SELECT * FROM {table}\"\"\""
   ]
  },
  {
   "cell_type": "code",
   "execution_count": 58,
   "id": "a90fa27f-4a3d-46b0-abd3-fe4c2d9f6908",
   "metadata": {},
   "outputs": [
    {
     "data": {
      "text/plain": [
       "'SELECT * FROM ZICCLOUDSTATE'"
      ]
     },
     "execution_count": 58,
     "metadata": {},
     "output_type": "execute_result"
    }
   ],
   "source": [
    "query"
   ]
  },
  {
   "cell_type": "code",
   "execution_count": 63,
   "id": "41bea785-b686-4b45-aaf8-55437ee4e783",
   "metadata": {},
   "outputs": [],
   "source": [
    "table = \"ZICNOTEDATA\"\n",
    "query = f\"\"\"SELECT * FROM {table}\"\"\""
   ]
  },
  {
   "cell_type": "code",
   "execution_count": 64,
   "id": "8291fdb4-3d88-4772-86cd-16f129638d7c",
   "metadata": {},
   "outputs": [
    {
     "data": {
      "text/plain": [
       "'SELECT * FROM ZICNOTEDATA'"
      ]
     },
     "execution_count": 64,
     "metadata": {},
     "output_type": "execute_result"
    }
   ],
   "source": [
    "query"
   ]
  },
  {
   "cell_type": "code",
   "execution_count": 65,
   "id": "e454da04-ab8f-41c9-8ac3-b9c1d1ae36cd",
   "metadata": {},
   "outputs": [
    {
     "name": "stdout",
     "output_type": "stream",
     "text": [
      "(('Z_PK', None, None, None, None, None, None), ('Z_ENT', None, None, None, None, None, None), ('Z_OPT', None, None, None, None, None, None), ('ZNOTE', None, None, None, None, None, None), ('ZCRYPTOINITIALIZATIONVECTOR', None, None, None, None, None, None), ('ZCRYPTOTAG', None, None, None, None, None, None), ('ZDATA', None, None, None, None, None, None))\n"
     ]
    }
   ],
   "source": [
    "data=cur.execute(f\"\"\"SELECT * FROM {table}\"\"\")\n",
    "print(data.description)"
   ]
  },
  {
   "cell_type": "code",
   "execution_count": null,
   "id": "ac0fae3e-be51-4508-8419-f4154bf80a09",
   "metadata": {},
   "outputs": [],
   "source": []
  }
 ],
 "metadata": {
  "kernelspec": {
   "display_name": "Python 3 (ipykernel)",
   "language": "python",
   "name": "python3"
  },
  "language_info": {
   "codemirror_mode": {
    "name": "ipython",
    "version": 3
   },
   "file_extension": ".py",
   "mimetype": "text/x-python",
   "name": "python",
   "nbconvert_exporter": "python",
   "pygments_lexer": "ipython3",
   "version": "3.12.4"
  }
 },
 "nbformat": 4,
 "nbformat_minor": 5
}
